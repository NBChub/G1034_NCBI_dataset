{
 "cells": [
  {
   "cell_type": "code",
   "execution_count": null,
   "id": "43fc701b-d584-4a35-9c64-3936e0650b7c",
   "metadata": {},
   "outputs": [],
   "source": [
    "import pandas as pd"
   ]
  },
  {
   "cell_type": "code",
   "execution_count": null,
   "id": "fe0c377f-a7a1-4d98-bd7a-541e6f1719db",
   "metadata": {},
   "outputs": [],
   "source": [
    "# Read the supplementary table\n",
    "df = pd.read_excel(\"../Supplementary_Table_1_statistics_table_per_strain.xlsx\")"
   ]
  },
  {
   "cell_type": "code",
   "execution_count": null,
   "id": "3304655e-22ae-4431-912c-a26e228c4b44",
   "metadata": {},
   "outputs": [],
   "source": [
    "# Read the bioproject\n",
    "df_bioproject = pd.read_csv(\"../PRJNA747871_AssemblyDetails.txt\", sep='\\t', skiprows=2, header=None)\n",
    "df_bioproject = df_bioproject.rename(columns={0:\"Assembly\", 1:\"Level\", 2:\"WGS\", 3:\"Chrs\", 4:\"BioSample\", 5:\"Strain\", 6:\"Taxonomy\"}).drop(columns=7)\n"
   ]
  },
  {
   "cell_type": "code",
   "execution_count": null,
   "id": "0335e646-724f-4e2e-94d4-2e251ccd54d4",
   "metadata": {},
   "outputs": [],
   "source": [
    "# list which samples are assembled and not\n",
    "df_final = pd.merge(df, df_bioproject, left_on=\"BioSample\", right_on=\"BioSample\", how=\"outer\")\n",
    "df_final.to_csv(\"../samples.tsv\", sep=\"\\t\", index=False)\n",
    "df_non_assembly = df_final[df_final.Assembly.isna()]\n",
    "#df_non_assembly.to_csv(\"../samples_non_assembly.tsv\", sep=\"\\t\", index=False)\n",
    "df_with_assembly = df_final[~df_final.Assembly.isna()]\n",
    "#df_with_assembly.to_csv(\"../samples_with_assembly.tsv\", sep=\"\\t\", index=False)"
   ]
  }
 ],
 "metadata": {
  "kernelspec": {
   "display_name": "Python 3 (ipykernel)",
   "language": "python",
   "name": "python3"
  },
  "language_info": {
   "codemirror_mode": {
    "name": "ipython",
    "version": 3
   },
   "file_extension": ".py",
   "mimetype": "text/x-python",
   "name": "python",
   "nbconvert_exporter": "python",
   "pygments_lexer": "ipython3",
   "version": "3.11.10"
  }
 },
 "nbformat": 4,
 "nbformat_minor": 5
}
