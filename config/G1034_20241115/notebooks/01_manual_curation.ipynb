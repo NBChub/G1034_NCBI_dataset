{
 "cells": [
  {
   "cell_type": "code",
   "execution_count": null,
   "id": "939cc5de-cc56-4ab7-853f-4981df99104c",
   "metadata": {},
   "outputs": [],
   "source": [
    "from Bio import SeqIO\n",
    "from pathlib import Path\n",
    "import pandas as pd"
   ]
  },
  {
   "cell_type": "code",
   "execution_count": null,
   "id": "143ddc7f-d44c-4c47-97fa-d3dfd18272c9",
   "metadata": {},
   "outputs": [],
   "source": [
    "genomes_to_curate = {\"NBC_01310\" : [\"CP108397.1\"],\n",
    "                     \"NBC_01080\" : [\"CP108663.1\"]}"
   ]
  },
  {
   "cell_type": "code",
   "execution_count": null,
   "id": "a0fd8b23-68d4-489e-aa49-735032106dd7",
   "metadata": {},
   "outputs": [],
   "source": [
    "def remove_shorter_end_cds(query, contigs, input_folder):\n",
    "    genbank_file = input_folder / f\"{query}.gbk\"\n",
    "    records = list(SeqIO.parse(genbank_file, \"genbank\"))\n",
    "    \n",
    "    # Define the threshold for \"end of the contig\"\n",
    "    threshold = 1000  # Adjust this value as needed\n",
    "    \n",
    "    # Iterate through each record in the GenBank file\n",
    "    for record in records:\n",
    "        if record.id in contigs:\n",
    "            print(f\"Processing record: {record.id}\")\n",
    "            # Find CDS features at the end of the contig\n",
    "            cds_at_end = []\n",
    "            for feature in record.features:\n",
    "                if feature.type == \"CDS\":\n",
    "                    start = int(feature.location.start)\n",
    "                    end = int(feature.location.end)\n",
    "                    if start >= len(record.seq) - threshold or end >= len(record.seq) - threshold:\n",
    "                        cds_at_end.append(feature)\n",
    "            \n",
    "            # Print the CDS features found at the end of the contig\n",
    "            for cds in cds_at_end:\n",
    "                print(f\"CDS found at the end of the contig: {cds.qualifiers.get('locus_tag', ['unknown'])[0]}\")\n",
    "                print(f\"CDS length: {len(cds.location)}\")\n",
    "                print(f\"Location: {cds.location}\")\n",
    "                print()\n",
    "            \n",
    "            # Find the longest CDS feature\n",
    "            if cds_at_end:\n",
    "                longest_cds = max(cds_at_end, key=lambda cds: len(cds.location))\n",
    "                longest_cds_locus_tag = longest_cds.qualifiers.get('locus_tag', ['unknown'])[0]\n",
    "                # Remove shorter CDS features and their associated gene features\n",
    "                new_features = []\n",
    "                for feature in record.features:\n",
    "                    if feature.type == \"CDS\" and feature in cds_at_end and feature != longest_cds:\n",
    "                        continue\n",
    "                    if feature.type == \"gene\":\n",
    "                        gene_locus_tag = feature.qualifiers.get('locus_tag', ['unknown'])[0]\n",
    "                        if any(gene_locus_tag == cds.qualifiers.get('locus_tag', ['unknown'])[0] for cds in cds_at_end if cds != longest_cds):\n",
    "                            continue\n",
    "                    new_features.append(feature)\n",
    "                record.features = new_features\n",
    "                print(f\"Longest CDS kept at the end of the contig: {longest_cds_locus_tag}\")\n",
    "                print(f\"CDS length: {len(longest_cds.location)}\")\n",
    "                print(f\"Location: {longest_cds.location}\")\n",
    "            else:\n",
    "                print(\"No CDS found at the end of the contig.\")\n",
    "    \n",
    "    # Write the modified records to a new GenBank file\n",
    "    output_file = input_folder / f\"{query}_modified.gbk\"\n",
    "    SeqIO.write(records, output_file, \"genbank\")\n",
    "    print()\n",
    "    print(f\"Modified GenBank file saved as {output_file}\")\n",
    "    return output_file"
   ]
  },
  {
   "cell_type": "code",
   "execution_count": null,
   "id": "f48708e5-121c-4dfa-a41d-722a4a6fd009",
   "metadata": {},
   "outputs": [],
   "source": [
    "input_folder = Path(\"../input_files\")\n",
    "\n",
    "# Load the GenBank file\n",
    "query = \"NBC_01310\"\n",
    "contigs = [\"CP108397.1\"]\n",
    "df = pd.read_csv(\"../samples.csv\").set_index(\"genome_id\")\n",
    "\n",
    "for k, v in genomes_to_curate.items():\n",
    "    outfile = remove_shorter_end_cds(k, v, input_folder)\n",
    "    df.loc[k, \"input_file\"] = outfile.name"
   ]
  },
  {
   "cell_type": "code",
   "execution_count": null,
   "id": "f3d65436-5821-4870-8cbc-7d9834d2405b",
   "metadata": {},
   "outputs": [],
   "source": [
    "df.to_csv(\"../samples_curated.csv\")"
   ]
  }
 ],
 "metadata": {
  "kernelspec": {
   "display_name": "Python 3 (ipykernel)",
   "language": "python",
   "name": "python3"
  },
  "language_info": {
   "codemirror_mode": {
    "name": "ipython",
    "version": 3
   },
   "file_extension": ".py",
   "mimetype": "text/x-python",
   "name": "python",
   "nbconvert_exporter": "python",
   "pygments_lexer": "ipython3",
   "version": "3.11.10"
  }
 },
 "nbformat": 4,
 "nbformat_minor": 5
}
